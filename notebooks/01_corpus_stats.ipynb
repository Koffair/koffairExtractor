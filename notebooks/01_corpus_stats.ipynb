{
 "cells": [
  {
   "cell_type": "markdown",
   "source": [
    "# Nyest corpus statistics"
   ],
   "metadata": {
    "collapsed": false
   }
  },
  {
   "cell_type": "code",
   "execution_count": 8,
   "outputs": [
    {
     "name": "stdout",
     "output_type": "stream",
     "text": [
      "(18649, 3)\n"
     ]
    },
    {
     "data": {
      "text/plain": "                                               Title  \\\n0                                         Urál‒Altaj   \n1                                Elhunyt Nagy Emília   \n2                                Elhunyt Nagy Emília   \n3  Brit utazók Magyarországon ‒hírek egy különös ...   \n4  Brit utazók Magyarországon ‒hírek egy különös ...   \n\n                                                Lead  \\\n0  Magyar őstörténeti tanulmányokban gyakran előf...   \n1  Elhunyt Nagy Emília, az ELTE Finnugor Tanszéké...   \n2  Elhunyt Nagy Emília, az ELTE Finnugor Tanszéké...   \n3  A Kárpát-medencét felkereső angol és skót utaz...   \n4  A Kárpát-medencét felkereső utazók között ango...   \n\n                                             Article  \n0   A helyesírási szabályzat 12. kiadása ‒ miként...  \n1  https://www.nyest.hu/renhirek/elhunyt-nagy-emiila  \n2   2022. július 31-én elhunyt Nagy Emília, az EL...  \n3   Buda városának többnyelvű népességéről Charle...  \n4   Korábban már írtunk az angol utazók északi fe...  ",
      "text/html": "<div>\n<style scoped>\n    .dataframe tbody tr th:only-of-type {\n        vertical-align: middle;\n    }\n\n    .dataframe tbody tr th {\n        vertical-align: top;\n    }\n\n    .dataframe thead th {\n        text-align: right;\n    }\n</style>\n<table border=\"1\" class=\"dataframe\">\n  <thead>\n    <tr style=\"text-align: right;\">\n      <th></th>\n      <th>Title</th>\n      <th>Lead</th>\n      <th>Article</th>\n    </tr>\n  </thead>\n  <tbody>\n    <tr>\n      <th>0</th>\n      <td>Urál‒Altaj</td>\n      <td>Magyar őstörténeti tanulmányokban gyakran előf...</td>\n      <td>A helyesírási szabályzat 12. kiadása ‒ miként...</td>\n    </tr>\n    <tr>\n      <th>1</th>\n      <td>Elhunyt Nagy Emília</td>\n      <td>Elhunyt Nagy Emília, az ELTE Finnugor Tanszéké...</td>\n      <td>https://www.nyest.hu/renhirek/elhunyt-nagy-emiila</td>\n    </tr>\n    <tr>\n      <th>2</th>\n      <td>Elhunyt Nagy Emília</td>\n      <td>Elhunyt Nagy Emília, az ELTE Finnugor Tanszéké...</td>\n      <td>2022. július 31-én elhunyt Nagy Emília, az EL...</td>\n    </tr>\n    <tr>\n      <th>3</th>\n      <td>Brit utazók Magyarországon ‒hírek egy különös ...</td>\n      <td>A Kárpát-medencét felkereső angol és skót utaz...</td>\n      <td>Buda városának többnyelvű népességéről Charle...</td>\n    </tr>\n    <tr>\n      <th>4</th>\n      <td>Brit utazók Magyarországon ‒hírek egy különös ...</td>\n      <td>A Kárpát-medencét felkereső utazók között ango...</td>\n      <td>Korábban már írtunk az angol utazók északi fe...</td>\n    </tr>\n  </tbody>\n</table>\n</div>"
     },
     "execution_count": 8,
     "metadata": {},
     "output_type": "execute_result"
    }
   ],
   "source": [
    "import pandas as pd\n",
    "df = pd.read_csv(\"../data/interim/cleaned_articles.csv\", sep=\";\")\n",
    "print(df.shape) # no of articles\n",
    "df.head()"
   ],
   "metadata": {
    "collapsed": false
   }
  },
  {
   "cell_type": "code",
   "execution_count": 10,
   "outputs": [
    {
     "name": "stdout",
     "output_type": "stream",
     "text": [
      "3411.697678159687 24.694514451177007 547.5187409512574\n"
     ]
    }
   ],
   "source": [
    "import itertools\n",
    "import spacy\n",
    "from nltk.tokenize import sent_tokenize, word_tokenize\n",
    "\n",
    "nlp = spacy.load(\"hu_core_news_lg\")\n",
    "\n",
    "characters = []\n",
    "words = []\n",
    "lemmas = []\n",
    "sentences = []\n",
    "for _, row in df.iterrows():\n",
    "    characters.append(len(row[\"Article\"].lower()))\n",
    "    sents = sent_tokenize(row[\"Article\"].lower())\n",
    "    sentences.append(len(sents))\n",
    "    wds = list(itertools.chain(*[word_tokenize(sent) for sent in sents]))\n",
    "    words.append(len(wds))\n",
    "    doc = nlp(row[\"Article\"])\n",
    "    ls = []\n",
    "    for s in doc.sents:\n",
    "        for wd in s:\n",
    "            if wd.pos_ not in [\"PUNCT\", \"X\"]:\n",
    "                ls.append(wd.lemma_.lower())\n",
    "    lemmas.append(ls)\n",
    "avg_chars = sum(characters) / len(characters)\n",
    "avg_sents = sum(sentences) / len(sentences)\n",
    "avg_words = sum(words) / len(words)\n",
    "print(avg_chars, avg_sents, avg_words) # average number of characters, sentences and words (token) per article"
   ],
   "metadata": {
    "collapsed": false
   }
  },
  {
   "cell_type": "code",
   "execution_count": 15,
   "outputs": [
    {
     "name": "stdout",
     "output_type": "stream",
     "text": [
      "247.13448442275725 0.6102234655801655\n"
     ]
    }
   ],
   "source": [
    "lemmas_per_articel = [len(set(l)) for l in lemmas]\n",
    "lexical_diversity_per_article = [len(set(l))/len(l) if len(l) > 0  else 0 for l in lemmas]\n",
    "\n",
    "avg_lemmas = sum(lemmas_per_articel) / len(lemmas_per_articel)\n",
    "avg_lexical_diversity = sum(lexical_diversity_per_article) / len(lexical_diversity_per_article)\n",
    "print(avg_lemmas, avg_lexical_diversity) # average number of lemmas, average lexical diversity"
   ],
   "metadata": {
    "collapsed": false
   }
  },
  {
   "cell_type": "markdown",
   "source": [],
   "metadata": {
    "collapsed": false
   }
  },
  {
   "cell_type": "markdown",
   "source": [
    "## Corpus statistics\n",
    "\n",
    "- 18649 articles\n",
    "- An average article contains 3411.697678159687 characters\n",
    "- An average article contains 547.5187409512574 words (tokens)\n",
    "- An average article contains 247.13448442275725 unique words (types)\n",
    "- An average article contains 24.694514451177007 sentences\n",
    "- The average lexical diversity of an article is 0.6102234655801655"
   ],
   "metadata": {
    "collapsed": false
   }
  }
 ],
 "metadata": {
  "kernelspec": {
   "display_name": "Python 3",
   "language": "python",
   "name": "python3"
  },
  "language_info": {
   "codemirror_mode": {
    "name": "ipython",
    "version": 2
   },
   "file_extension": ".py",
   "mimetype": "text/x-python",
   "name": "python",
   "nbconvert_exporter": "python",
   "pygments_lexer": "ipython2",
   "version": "2.7.6"
  }
 },
 "nbformat": 4,
 "nbformat_minor": 0
}
